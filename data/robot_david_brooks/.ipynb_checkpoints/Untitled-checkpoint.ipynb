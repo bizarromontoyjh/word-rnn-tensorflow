{
 "cells": [
  {
   "cell_type": "code",
   "execution_count": 4,
   "metadata": {
    "collapsed": true
   },
   "outputs": [],
   "source": [
    "from nytimesarticle import articleAPI\n",
    "import requests\n",
    "from lxml import etree, html"
   ]
  },
  {
   "cell_type": "code",
   "execution_count": 5,
   "metadata": {
    "collapsed": true
   },
   "outputs": [],
   "source": [
    "api = articleAPI(\"1d21881c9f374736821cd81efbffa68b\")"
   ]
  },
  {
   "cell_type": "code",
   "execution_count": 28,
   "metadata": {
    "collapsed": false
   },
   "outputs": [],
   "source": [
    "search = api.search(q=\"David Brooks\", \n",
    "                    fq={\"byline\":\"David Brooks\", \"section_name\":\"Opinion\"},\n",
    "                    sort=\"newest\")"
   ]
  },
  {
   "cell_type": "code",
   "execution_count": 33,
   "metadata": {
    "collapsed": false
   },
   "outputs": [],
   "source": [
    "article_texts = []\n",
    "for doc in search['response']['docs']:\n",
    "    web_url = doc['web_url']\n",
    "    tree = html.fromstring(requests.get(web_url).content)\n",
    "    paragraphs = tree.xpath('//p[@class=\"story-body-text story-content\"]')\n",
    "    text = '\\n\\n'.join([p.text_content() for p in paragraphs])\n",
    "    article_texts.append(text.encode('punycode'))"
   ]
  },
  {
   "cell_type": "code",
   "execution_count": 38,
   "metadata": {
    "collapsed": false
   },
   "outputs": [],
   "source": [
    "with open('input.txt', 'w') as f:\n",
    "    f.write('n\\n'.join(article_texts))"
   ]
  }
 ],
 "metadata": {
  "kernelspec": {
   "display_name": "Python 2",
   "language": "python",
   "name": "python2"
  },
  "language_info": {
   "codemirror_mode": {
    "name": "ipython",
    "version": 2
   },
   "file_extension": ".py",
   "mimetype": "text/x-python",
   "name": "python",
   "nbconvert_exporter": "python",
   "pygments_lexer": "ipython2",
   "version": "2.7.13"
  }
 },
 "nbformat": 4,
 "nbformat_minor": 2
}
